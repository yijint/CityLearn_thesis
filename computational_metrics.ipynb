{
 "cells": [
  {
   "cell_type": "markdown",
   "id": "a8430fe2-b5a7-4006-87da-ab09ca537446",
   "metadata": {},
   "source": [
    "## Extract computational metrics from slurm job statistics"
   ]
  },
  {
   "cell_type": "code",
   "execution_count": 1,
   "id": "b69a3459-424e-47f0-9560-9baa229db7da",
   "metadata": {},
   "outputs": [],
   "source": [
    "import pandas as pd"
   ]
  },
  {
   "cell_type": "markdown",
   "id": "b26533dd-ea82-4fc9-9d4b-583a6949dcd2",
   "metadata": {},
   "source": [
    "### Training time"
   ]
  },
  {
   "cell_type": "code",
   "execution_count": 2,
   "id": "01587baa-b811-4c55-b876-444d23b9b709",
   "metadata": {},
   "outputs": [
    {
     "data": {
      "text/html": [
       "<div>\n",
       "<style scoped>\n",
       "    .dataframe tbody tr th:only-of-type {\n",
       "        vertical-align: middle;\n",
       "    }\n",
       "\n",
       "    .dataframe tbody tr th {\n",
       "        vertical-align: top;\n",
       "    }\n",
       "\n",
       "    .dataframe thead th {\n",
       "        text-align: right;\n",
       "    }\n",
       "</style>\n",
       "<table border=\"1\" class=\"dataframe\">\n",
       "  <thead>\n",
       "    <tr style=\"text-align: right;\">\n",
       "      <th></th>\n",
       "      <th>n_buildings</th>\n",
       "      <th>cost_function</th>\n",
       "      <th>mpc</th>\n",
       "      <th>ppo</th>\n",
       "      <th>sac</th>\n",
       "      <th>best</th>\n",
       "    </tr>\n",
       "  </thead>\n",
       "  <tbody>\n",
       "    <tr>\n",
       "      <th>0</th>\n",
       "      <td>2</td>\n",
       "      <td>training_time</td>\n",
       "      <td>0</td>\n",
       "      <td>3.1</td>\n",
       "      <td>8.21</td>\n",
       "      <td>mpc</td>\n",
       "    </tr>\n",
       "    <tr>\n",
       "      <th>1</th>\n",
       "      <td>4</td>\n",
       "      <td>training_time</td>\n",
       "      <td>0</td>\n",
       "      <td>5.4</td>\n",
       "      <td>9.65</td>\n",
       "      <td>mpc</td>\n",
       "    </tr>\n",
       "    <tr>\n",
       "      <th>2</th>\n",
       "      <td>8</td>\n",
       "      <td>training_time</td>\n",
       "      <td>0</td>\n",
       "      <td>14.0</td>\n",
       "      <td>14.58</td>\n",
       "      <td>mpc</td>\n",
       "    </tr>\n",
       "  </tbody>\n",
       "</table>\n",
       "</div>"
      ],
      "text/plain": [
       "   n_buildings  cost_function  mpc   ppo    sac best\n",
       "0            2  training_time    0   3.1   8.21  mpc\n",
       "1            4  training_time    0   5.4   9.65  mpc\n",
       "2            8  training_time    0  14.0  14.58  mpc"
      ]
     },
     "execution_count": 2,
     "metadata": {},
     "output_type": "execute_result"
    }
   ],
   "source": [
    "# in minutes\n",
    "training_time = {'n_buildings': [2, 4, 8], \n",
    "                 'cost_function': 'training_time',\n",
    "                 'mpc': [0, 0, 0], \n",
    "                 'ppo': [3.10, 5.40, 14.00],\n",
    "                 'sac': [8.21, 9.65,14.58]}\n",
    "training_time = pd.DataFrame(training_time)\n",
    "training_time['best'] = training_time[['mpc', 'ppo', 'sac']].idxmin(axis=1)\n",
    "training_time"
   ]
  },
  {
   "cell_type": "markdown",
   "id": "d96c505e-d065-46bf-b0c9-1e7b7145468d",
   "metadata": {},
   "source": [
    "### Inference time"
   ]
  },
  {
   "cell_type": "code",
   "execution_count": 3,
   "id": "7ec85870-ee2d-4f7b-8e58-185997463bc0",
   "metadata": {},
   "outputs": [
    {
     "data": {
      "text/html": [
       "<div>\n",
       "<style scoped>\n",
       "    .dataframe tbody tr th:only-of-type {\n",
       "        vertical-align: middle;\n",
       "    }\n",
       "\n",
       "    .dataframe tbody tr th {\n",
       "        vertical-align: top;\n",
       "    }\n",
       "\n",
       "    .dataframe thead th {\n",
       "        text-align: right;\n",
       "    }\n",
       "</style>\n",
       "<table border=\"1\" class=\"dataframe\">\n",
       "  <thead>\n",
       "    <tr style=\"text-align: right;\">\n",
       "      <th></th>\n",
       "      <th>n_buildings</th>\n",
       "      <th>cost_function</th>\n",
       "      <th>mpc</th>\n",
       "      <th>ppo</th>\n",
       "      <th>sac</th>\n",
       "      <th>best</th>\n",
       "    </tr>\n",
       "  </thead>\n",
       "  <tbody>\n",
       "    <tr>\n",
       "      <th>0</th>\n",
       "      <td>2</td>\n",
       "      <td>inference_time</td>\n",
       "      <td>20.07</td>\n",
       "      <td>0.91</td>\n",
       "      <td>1.12</td>\n",
       "      <td>ppo</td>\n",
       "    </tr>\n",
       "    <tr>\n",
       "      <th>1</th>\n",
       "      <td>4</td>\n",
       "      <td>inference_time</td>\n",
       "      <td>40.47</td>\n",
       "      <td>1.66</td>\n",
       "      <td>1.94</td>\n",
       "      <td>ppo</td>\n",
       "    </tr>\n",
       "    <tr>\n",
       "      <th>2</th>\n",
       "      <td>8</td>\n",
       "      <td>inference_time</td>\n",
       "      <td>75.39</td>\n",
       "      <td>3.17</td>\n",
       "      <td>3.53</td>\n",
       "      <td>ppo</td>\n",
       "    </tr>\n",
       "  </tbody>\n",
       "</table>\n",
       "</div>"
      ],
      "text/plain": [
       "   n_buildings   cost_function    mpc   ppo   sac best\n",
       "0            2  inference_time  20.07  0.91  1.12  ppo\n",
       "1            4  inference_time  40.47  1.66  1.94  ppo\n",
       "2            8  inference_time  75.39  3.17  3.53  ppo"
      ]
     },
     "execution_count": 3,
     "metadata": {},
     "output_type": "execute_result"
    }
   ],
   "source": [
    "# in minutes\n",
    "inference_time = {'n_buildings': [2, 4, 8], \n",
    "                  'cost_function': 'inference_time',\n",
    "                  'mpc': [20.07, 40.47, 75.39], \n",
    "                  'ppo': [0.91, 1.66, 3.17],\n",
    "                  'sac': [1.12, 1.94, 3.53]}\n",
    "inference_time = pd.DataFrame(inference_time)\n",
    "inference_time['best'] = inference_time[['mpc', 'ppo', 'sac']].idxmin(axis=1)\n",
    "inference_time"
   ]
  },
  {
   "cell_type": "markdown",
   "id": "f89f53f1-fc1a-4ff8-8f4d-d0d9f746dc1e",
   "metadata": {},
   "source": [
    "### Training RAM usage"
   ]
  },
  {
   "cell_type": "code",
   "execution_count": 4,
   "id": "2b4bbcb2-6e85-4d3a-9f64-cbaeb7451166",
   "metadata": {},
   "outputs": [
    {
     "data": {
      "text/html": [
       "<div>\n",
       "<style scoped>\n",
       "    .dataframe tbody tr th:only-of-type {\n",
       "        vertical-align: middle;\n",
       "    }\n",
       "\n",
       "    .dataframe tbody tr th {\n",
       "        vertical-align: top;\n",
       "    }\n",
       "\n",
       "    .dataframe thead th {\n",
       "        text-align: right;\n",
       "    }\n",
       "</style>\n",
       "<table border=\"1\" class=\"dataframe\">\n",
       "  <thead>\n",
       "    <tr style=\"text-align: right;\">\n",
       "      <th></th>\n",
       "      <th>n_buildings</th>\n",
       "      <th>cost_function</th>\n",
       "      <th>mpc</th>\n",
       "      <th>ppo</th>\n",
       "      <th>sac</th>\n",
       "      <th>best</th>\n",
       "    </tr>\n",
       "  </thead>\n",
       "  <tbody>\n",
       "    <tr>\n",
       "      <th>0</th>\n",
       "      <td>2</td>\n",
       "      <td>training_ram</td>\n",
       "      <td>0</td>\n",
       "      <td>0.596</td>\n",
       "      <td>2.77</td>\n",
       "      <td>mpc</td>\n",
       "    </tr>\n",
       "    <tr>\n",
       "      <th>1</th>\n",
       "      <td>4</td>\n",
       "      <td>training_ram</td>\n",
       "      <td>0</td>\n",
       "      <td>1.100</td>\n",
       "      <td>3.03</td>\n",
       "      <td>mpc</td>\n",
       "    </tr>\n",
       "    <tr>\n",
       "      <th>2</th>\n",
       "      <td>8</td>\n",
       "      <td>training_ram</td>\n",
       "      <td>0</td>\n",
       "      <td>1.110</td>\n",
       "      <td>2.80</td>\n",
       "      <td>mpc</td>\n",
       "    </tr>\n",
       "  </tbody>\n",
       "</table>\n",
       "</div>"
      ],
      "text/plain": [
       "   n_buildings cost_function  mpc    ppo   sac best\n",
       "0            2  training_ram    0  0.596  2.77  mpc\n",
       "1            4  training_ram    0  1.100  3.03  mpc\n",
       "2            8  training_ram    0  1.110  2.80  mpc"
      ]
     },
     "execution_count": 4,
     "metadata": {},
     "output_type": "execute_result"
    }
   ],
   "source": [
    "# in GB\n",
    "training_ram = {'n_buildings': [2, 4, 8], \n",
    "                'cost_function': 'training_ram',\n",
    "                'mpc': [0, 0, 0], \n",
    "                'ppo': [0.596, 1.10, 1.11],\n",
    "                'sac': [1.65+1.12, 1.66+1.37, 1.68+1.12]} # CPU + GPU (higher bc replay buffer?)\n",
    "training_ram = pd.DataFrame(training_ram)\n",
    "training_ram['best'] = training_ram[['mpc', 'ppo', 'sac']].idxmin(axis=1)\n",
    "training_ram"
   ]
  },
  {
   "cell_type": "markdown",
   "id": "8563e92d-2ad1-4244-bceb-960e95406e16",
   "metadata": {},
   "source": [
    "### Inference RAM usage"
   ]
  },
  {
   "cell_type": "code",
   "execution_count": 5,
   "id": "c6b332c4-2a59-47e0-860a-307c4d968af1",
   "metadata": {},
   "outputs": [
    {
     "data": {
      "text/html": [
       "<div>\n",
       "<style scoped>\n",
       "    .dataframe tbody tr th:only-of-type {\n",
       "        vertical-align: middle;\n",
       "    }\n",
       "\n",
       "    .dataframe tbody tr th {\n",
       "        vertical-align: top;\n",
       "    }\n",
       "\n",
       "    .dataframe thead th {\n",
       "        text-align: right;\n",
       "    }\n",
       "</style>\n",
       "<table border=\"1\" class=\"dataframe\">\n",
       "  <thead>\n",
       "    <tr style=\"text-align: right;\">\n",
       "      <th></th>\n",
       "      <th>n_buildings</th>\n",
       "      <th>cost_function</th>\n",
       "      <th>mpc</th>\n",
       "      <th>ppo</th>\n",
       "      <th>sac</th>\n",
       "      <th>best</th>\n",
       "    </tr>\n",
       "  </thead>\n",
       "  <tbody>\n",
       "    <tr>\n",
       "      <th>0</th>\n",
       "      <td>2</td>\n",
       "      <td>inference_ram</td>\n",
       "      <td>0.676</td>\n",
       "      <td>0.605</td>\n",
       "      <td>3.03</td>\n",
       "      <td>ppo</td>\n",
       "    </tr>\n",
       "    <tr>\n",
       "      <th>1</th>\n",
       "      <td>4</td>\n",
       "      <td>inference_ram</td>\n",
       "      <td>0.800</td>\n",
       "      <td>1.150</td>\n",
       "      <td>3.08</td>\n",
       "      <td>mpc</td>\n",
       "    </tr>\n",
       "    <tr>\n",
       "      <th>2</th>\n",
       "      <td>8</td>\n",
       "      <td>inference_ram</td>\n",
       "      <td>0.972</td>\n",
       "      <td>1.200</td>\n",
       "      <td>2.99</td>\n",
       "      <td>mpc</td>\n",
       "    </tr>\n",
       "  </tbody>\n",
       "</table>\n",
       "</div>"
      ],
      "text/plain": [
       "   n_buildings  cost_function    mpc    ppo   sac best\n",
       "0            2  inference_ram  0.676  0.605  3.03  ppo\n",
       "1            4  inference_ram  0.800  1.150  3.08  mpc\n",
       "2            8  inference_ram  0.972  1.200  2.99  mpc"
      ]
     },
     "execution_count": 5,
     "metadata": {},
     "output_type": "execute_result"
    }
   ],
   "source": [
    "inference_ram = {'n_buildings': [2, 4, 8], \n",
    "                 'cost_function': 'inference_ram',\n",
    "                 'mpc': [0.676, 0.800, 0.972], \n",
    "                 'ppo': [0.605, 1.15, 1.20],\n",
    "                 'sac': [1.91+1.12, 1.71+1.37, 1.87+1.12]} # CPU + GPU (higher bc replay buffer?)\n",
    "inference_ram = pd.DataFrame(inference_ram)\n",
    "inference_ram['best'] = inference_ram[['mpc', 'ppo', 'sac']].idxmin(axis=1)\n",
    "inference_ram"
   ]
  },
  {
   "cell_type": "markdown",
   "id": "0fb82cbb-6495-4c59-b71a-56f6549c689c",
   "metadata": {},
   "source": [
    "#### Combine and save metrics"
   ]
  },
  {
   "cell_type": "code",
   "execution_count": 8,
   "id": "46e95e1f-262b-4fa1-82dd-6b2018a0aa2c",
   "metadata": {},
   "outputs": [],
   "source": [
    "computational_metrics = pd.concat([training_time, inference_time, training_ram, inference_ram]).round(2)\n",
    "computational_metrics.to_csv('results/computational_metrics.csv', index=False)"
   ]
  }
 ],
 "metadata": {
  "kernelspec": {
   "display_name": "thesis_v2 [~/.conda/envs/thesis_v2/]",
   "language": "python",
   "name": "conda_thesis_v2"
  },
  "language_info": {
   "codemirror_mode": {
    "name": "ipython",
    "version": 3
   },
   "file_extension": ".py",
   "mimetype": "text/x-python",
   "name": "python",
   "nbconvert_exporter": "python",
   "pygments_lexer": "ipython3",
   "version": "3.9.19"
  }
 },
 "nbformat": 4,
 "nbformat_minor": 5
}
