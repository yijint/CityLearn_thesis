{
 "cells": [
  {
   "cell_type": "markdown",
   "metadata": {},
   "source": [
    "### Implementing MPC with perfect forecast in CityLearn"
   ]
  },
  {
   "cell_type": "markdown",
   "metadata": {},
   "source": [
    "Import packages"
   ]
  },
  {
   "cell_type": "code",
   "execution_count": 1,
   "metadata": {
    "id": "xVzk4V7qUu2R"
   },
   "outputs": [],
   "source": [
    "# System operations\n",
    "import inspect\n",
    "import os\n",
    "import uuid\n",
    "\n",
    "# Date and time\n",
    "from datetime import datetime\n",
    "\n",
    "# type hinting\n",
    "from typing import Any, List, Mapping, Tuple, Union\n",
    "\n",
    "# Data visualization\n",
    "import matplotlib.colors as mcolors\n",
    "import matplotlib.pyplot as plt\n",
    "import matplotlib.ticker as ticker\n",
    "import seaborn as sns\n",
    "\n",
    "# User interaction\n",
    "from IPython.display import clear_output\n",
    "from ipywidgets import Button, FloatSlider, HBox, HTML\n",
    "from ipywidgets import IntProgress, Text, VBox\n",
    "\n",
    "# Data manipulation\n",
    "from bs4 import BeautifulSoup\n",
    "import math\n",
    "import numpy as np\n",
    "import pandas as pd\n",
    "import random\n",
    "import re\n",
    "import requests\n",
    "import simplejson as json\n",
    "\n",
    "# CityLearn\n",
    "from citylearn.agents.rbc import HourRBC\n",
    "from citylearn.agents.q_learning import TabularQLearning\n",
    "from citylearn.citylearn import CityLearnEnv\n",
    "from citylearn.data import DataSet\n",
    "from citylearn.reward_function import RewardFunction\n",
    "from citylearn.wrappers import NormalizedObservationWrapper\n",
    "from citylearn.wrappers import StableBaselines3Wrapper\n",
    "from citylearn.wrappers import TabularQLearningWrapper\n",
    "\n",
    "# baseline RL algorithms\n",
    "from stable_baselines3 import SAC\n",
    "from stable_baselines3.common.callbacks import BaseCallback\n",
    "\n",
    "# helper functions to parse KPIs \n",
    "from kpi_utils import get_kpis, plot_building_kpis, plot_district_kpis\n",
    "from kpi_utils import plot_building_load_profiles, plot_district_load_profiles, plot_battery_soc_profiles, plot_simulation_summary\n",
    "\n",
    "# packages for MPC\n",
    "from scipy.optimize import minimize\n",
    "import cvxpy as cp"
   ]
  },
  {
   "cell_type": "markdown",
   "metadata": {
    "id": "2gRR9HOBxOR2"
   },
   "source": [
    "Load data from CityLearn 2021 Challenge. \n",
    "\n",
    "In this challenge, the agents must control the energy stored by a micro-grid of 9 buildings in real-time for a period of 4 simulated years, on an hourly time-scale. Each building has 3 action-variables (domestic hot water storage, chilled water storage, and electrical storage), except for buildings 3 and 4 that do not have domestic hot water storage."
   ]
  },
  {
   "cell_type": "code",
   "execution_count": 2,
   "metadata": {
    "id": "9SuxbmkixQ2z"
   },
   "outputs": [],
   "source": [
    "DATASET_NAME = 'citylearn_challenge_2021'\n",
    "ds = DataSet()\n",
    "schema = ds.get_schema(DATASET_NAME)"
   ]
  },
  {
   "cell_type": "markdown",
   "metadata": {
    "id": "PoF-BxSM5Jkc"
   },
   "source": [
    "Data Preprocessing:\n",
    "1. Use only 3, 5, 7, or 9 buildings \n",
    "2. Use the first two years of data for training, the third year for validation, and the fourth year for testing.\n",
    "3. Use centralized control\n",
    "\n",
    "These can be modified directly in the schema. The buildings will be pseudo-randomly selected with a seed for reproducibility. "
   ]
  },
  {
   "cell_type": "code",
   "execution_count": 3,
   "metadata": {
    "id": "Qh5FKi6Nopbr"
   },
   "outputs": [
    {
     "name": "stdout",
     "output_type": "stream",
     "text": [
      "Number of buildings: 3\n",
      "Selected buildings: ['Building_2', 'Building_6', 'Building_9']\n",
      "Selected train split: (0, 17520)\n"
     ]
    }
   ],
   "source": [
    "from env_utils import get_n_buildings, set_schema_buildings, set_schema_simulation_period\n",
    "\n",
    "# select the number of buildings in simulation\n",
    "scale = 'tiny'\n",
    "n_buildings = get_n_buildings(scale)\n",
    "\n",
    " # select the number of days in simulation\n",
    "split = 'train'\n",
    "\n",
    "schema, buildings = set_schema_buildings(schema, scale)\n",
    "schema, simulation_start_time_step, simulation_end_time_step =\\\n",
    "    set_schema_simulation_period(schema, split)\n",
    "\n",
    "print('Number of buildings:', n_buildings)\n",
    "print('Selected buildings:', buildings)\n",
    "print(\n",
    "    f'Selected {split} split:',\n",
    "    (simulation_start_time_step, simulation_end_time_step)\n",
    ")\n",
    "\n",
    "# use centralized control\n",
    "schema['central_agent'] = True"
   ]
  },
  {
   "cell_type": "markdown",
   "metadata": {
    "id": "bSt6h_Q-oqjK"
   },
   "source": [
    "Initialize a CityLearn Environment"
   ]
  },
  {
   "cell_type": "code",
   "execution_count": 4,
   "metadata": {
    "id": "0aBJ5aLZosk-"
   },
   "outputs": [
    {
     "name": "stdout",
     "output_type": "stream",
     "text": [
      "Current time step: 0\n",
      "environment number of time steps: 17521\n",
      "environment uses central agent: True\n",
      "Number of buildings: 3\n",
      "Electrical storage capacity: {'Building_2': 80.0, 'Building_6': 30.0, 'Building_9': 35.0}\n",
      "Electrical storage nominal power: {'Building_2': 40.0, 'Building_6': 10.0, 'Building_9': 20.0}\n"
     ]
    }
   ],
   "source": [
    "env = CityLearnEnv(schema)\n",
    "\n",
    "# check initialization\n",
    "print('Current time step:', env.time_step)\n",
    "print('environment number of time steps:', env.time_steps)\n",
    "print('environment uses central agent:', env.central_agent)\n",
    "print('Number of buildings:', len(env.buildings))\n",
    "print('Electrical storage capacity:', {\n",
    "    b.name: b.electrical_storage.capacity for b in env.buildings\n",
    "})\n",
    "print('Electrical storage nominal power:', {\n",
    "    b.name: b.electrical_storage.nominal_power for b in env.buildings\n",
    "})"
   ]
  },
  {
   "cell_type": "markdown",
   "metadata": {
    "id": "b2jH6nki0hpG"
   },
   "source": [
    "Given a set of GEBs, the controllers aim to minimize the electricity cost, average peak demand, and carbon intensity of electricity consumed by the buildings. The evalu\n",
    "tion will be based on these metrics while also including computational costs suchas \n",
    " training time, inference time, RAM usage, and scalability across different numbe off\r\n",
    " builgs.\n",
    "\n",
    "Three built-in key performance indicators can be used: cost, carbon emissions, and average daily peak. Average daily peak is a district-level KPI that is calculated using the aggregated district-level hourly net electricity consumption (kWh), $E_h^{\\textrm{district}}$. Cost and carbon emissions are building-level KPIs that are calculated using the building-level hourly net electricity consumption (kWh), $E_h^{\\textrm{building}}$, and are reported at the grid level as the average of the building-level values.\n",
    "\n",
    "Cost is defined as the sum of building-level imported electricity cost, $E_h^{\\textrm{building}} \\times T_h$ \\\\$), where $T_h$ is the electricity rate at hour $h$.\n",
    "\n",
    "$$\n",
    "    \\textrm{cost} = \\sum_{h=0}^{n-1}{\\textrm{max} \\left (0,E_h^{\\textrm{building}} \\times T_h \\right )}\n",
    "$$\n",
    "\n",
    "Carbon emissions is the sum of building-level carbon emissions (kg<sub>CO<sub>2</sub>e</sub>), $E_h^{\\textrm{building}} \\times O_h$, where $O_h$ is the carbon intensity (kg<sub>CO<sub>2</sub>e</sub>/kWh) at hour $h$.\n",
    "\n",
    "$$\n",
    "    \\textrm{carbon emissions} = \\sum_{h=0}^{n-1}{\\textrm{max} \\left (0,E_h^{\\textrm{building}} \\times O_h \\right )}\n",
    "$$\n",
    "\n",
    "Average daily peak, is defined as the mean of the daily $E_h^{\\textrm{district}}$ peak where $d$ is the day index and $n$ is the total number of days.\n",
    "\n",
    "$$\n",
    "    \\textrm{average daily peak} = \\frac{\n",
    "        {\\sum}_{d=0}^{n - 1} {\\sum}_{h=0}^{23} {\\textrm{max} \\left (E_{24d + h}^{\\textrm{district}}, \\dots, E_{24d + 23}^{\\textrm{district}} \\right)}\n",
    "    }{n}\n",
    "$$\n",
    "\n",
    "The KPIs are reported as normalized values with respect to the baseline outcome where the baseline outcome is when buildings are not equipped with batteries i.e., no control.\n",
    "\n",
    "$$\\textrm{KPI} = \\frac{{\\textrm{KPI}_{control}}}{\\textrm{KPI}_{baseline (no\\ battery)}}\n",
    "$$"
   ]
  },
  {
   "cell_type": "markdown",
   "metadata": {},
   "source": [
    "#### Implementing MPC "
   ]
  },
  {
   "cell_type": "code",
   "execution_count": 5,
   "metadata": {},
   "outputs": [],
   "source": [
    "# Define MPC optimization function\n",
    "def mpc_optimization(electrical_load, cooling_load, dhw_load,\n",
    "                     pv, price, carbon_intensity, battery, N):\n",
    "    \"\"\"\n",
    "    Computes the optimal battery action over an N-hour control horizon to minimize cost.\n",
    "    \n",
    "    Parameters:\n",
    "    - electrical_load (array): Electricity demand over the next N hours.\n",
    "    - cooling_load (array): Cooling demand over the next N hours.\n",
    "    - dhw_load (array): Domestic hot water demand over the next N hours.\n",
    "    - pv (array): Solar generation over the next N hours.\n",
    "    - price (array): Electricity price per kWh over the next N hours.\n",
    "    - carbon_intensity (array): Carbon intensity per kWh over the next N hours.\n",
    "    - battery (citylearn.energy_model.Battery): Battery model.\n",
    "    - N (int): Control horizon.\n",
    "\n",
    "    Returns:\n",
    "    - First action in the optimal sequence.\n",
    "    \"\"\"\n",
    "    # decision variables \n",
    "    battery_action = cp.Variable(N)\n",
    "    cooling_action = cp.Variable(N)\n",
    "    dhw_action = cp.Variable(N)\n",
    "\n",
    "    # constraints\n",
    "    constraints = [cp.abs(battery_action) <= 1,\n",
    "                   cp.abs(cooling_action) <= 1,\n",
    "                   cp.abs(dhw_action) <= 1]\n",
    "\n",
    "    # objective\n",
    "    net_load = electrical_load + cooling_load + dhw_load - pv + battery_action*battery.capacity\n",
    "    dollar = cp.sum(cp.multiply(net_load, price))\n",
    "    emission = cp.sum(cp.multiply(net_load, carbon_intensity))\n",
    "    objective = cp.Minimize(2*dollar + 1*emission) # weights from https://www.e3s-conferences.org/articles/e3sconf/abs/2023/33/e3sconf_iaqvec2023_04018/e3sconf_iaqvec2023_04018.html\n",
    "\n",
    "    # solve \n",
    "    problem = cp.Problem(objective, constraints)\n",
    "    problem.solve(solver=cp.ECOS)\n",
    "\n",
    "    return [battery_action.value[0] if battery_action.value is not None else 0.0,\n",
    "            dhw_action.value[0] if dhw_action.value is not None else 0.0,\n",
    "            cooling_action.value[0] if cooling_action.value is not None else 0.0]"
   ]
  },
  {
   "cell_type": "code",
   "execution_count": null,
   "metadata": {},
   "outputs": [],
   "source": [
    "# MPC control loop with perfect forecasts\n",
    "electricity_pricing_ind = np.where(np.array(list(schema['observations'].keys())) == 'electricity_pricing')[0][0].item()\n",
    "carbon_intensity_ind = np.where(np.array(list(schema['observations'].keys())) == 'carbon_intensity')[0][0].item()\n",
    "hour_ind = np.where(np.array(list(schema['observations'].keys())) == 'hour')[0][0].item()\n",
    "\n",
    "obs, actions, rewards, terminated, truncated = env.reset(), [], [], False, False\n",
    "obs, info = obs\n",
    "\n",
    "while not (terminated or truncated):\n",
    "    for b in env.buildings:\n",
    "        # Extract relevant features from observations\n",
    "        electricity_price = obs[0][electricity_pricing_ind]\n",
    "        carbon_intensity = obs[0][carbon_intensity_ind]\n",
    "        hour = obs[0][hour_ind]\n",
    "        \n",
    "        # Get perfect forecast for next N hours\n",
    "        N_forecast = 12\n",
    "        steps_remaining = env.time_steps - env.time_step\n",
    "        N = min(N_forecast, steps_remaining)\n",
    "        \n",
    "        electrical_load = b.energy_simulation.non_shiftable_load[env.time_step : env.time_step+N]\n",
    "        cooling_load = b.energy_simulation.cooling_demand[env.time_step : env.time_step+N]\n",
    "        dhw_load = b.energy_simulation.dhw_demand[env.time_step : env.time_step+N]\n",
    "        pv = b.energy_simulation.solar_generation[env.time_step : env.time_step+N]\n",
    "        price = b.pricing.electricity_pricing[env.time_step : env.time_step+N]\n",
    "        carbon_intensity = b.carbon_intensity.carbon_intensity[env.time_step : env.time_step+N]\n",
    "        \n",
    "        \n",
    "        # Select action\n",
    "        action = mpc_optimization(electrical_load, cooling_load, dhw_load,\n",
    "                                  pv, price, carbon_intensity, \n",
    "                                  b.electrical_storage, N)\n",
    "        actions.extend(action)\n",
    "    obs, reward, terminated, truncated, info = env.step([actions])\n",
    "    actions = []\n",
    "    rewards.append(reward[0].item())"
   ]
  },
  {
   "cell_type": "code",
   "execution_count": 15,
   "metadata": {},
   "outputs": [
    {
     "name": "stdout",
     "output_type": "stream",
     "text": [
      "Total reward: -1013058.3095998764\n"
     ]
    }
   ],
   "source": [
    "print(f\"Total reward: {sum(rewards)}\")"
   ]
  }
 ],
 "metadata": {
  "colab": {
   "provenance": []
  },
  "kernelspec": {
   "display_name": "thesis_v2 [~/.conda/envs/thesis_v2/]",
   "language": "python",
   "name": "conda_thesis_v2"
  },
  "language_info": {
   "codemirror_mode": {
    "name": "ipython",
    "version": 3
   },
   "file_extension": ".py",
   "mimetype": "text/x-python",
   "name": "python",
   "nbconvert_exporter": "python",
   "pygments_lexer": "ipython3",
   "version": "3.9.19"
  },
  "vscode": {
   "interpreter": {
    "hash": "aef885a76ce31739e452d1e6967b400907b14827afd25732d0e38ec88d4e0d05"
   }
  }
 },
 "nbformat": 4,
 "nbformat_minor": 4
}
